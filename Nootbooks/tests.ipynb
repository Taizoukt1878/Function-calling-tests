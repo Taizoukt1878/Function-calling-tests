{
 "cells": [
  {
   "cell_type": "code",
   "execution_count": 20,
   "metadata": {},
   "outputs": [],
   "source": [
    "import requests\n",
    "from openai import OpenAI\n",
    "import os"
   ]
  },
  {
   "cell_type": "markdown",
   "metadata": {},
   "source": [
    "# 1"
   ]
  },
  {
   "cell_type": "code",
   "execution_count": 5,
   "metadata": {},
   "outputs": [],
   "source": [
    "get_market_data = \"spect\"\n",
    "token= \"spect\""
   ]
  },
  {
   "cell_type": "code",
   "execution_count": 6,
   "metadata": {},
   "outputs": [
    {
     "data": {
      "text/plain": [
       "'https://us-central1-third-opus-411016.cloudfunctions.net/SearchEngineApiV4/get_market_details_coin_ticker?query=spect'"
      ]
     },
     "execution_count": 6,
     "metadata": {},
     "output_type": "execute_result"
    }
   ],
   "source": [
    "url_token = f\"https://us-central1-third-opus-411016.cloudfunctions.net/SearchEngineApiV4/get_market_details_coin_ticker?query={token}\"\n",
    "url_token"
   ]
  },
  {
   "cell_type": "code",
   "execution_count": 7,
   "metadata": {},
   "outputs": [
    {
     "data": {
      "text/plain": [
       "'https://search-serv-277369611639.us-central1.run.app/fetch?query=spect'"
      ]
     },
     "execution_count": 7,
     "metadata": {},
     "output_type": "execute_result"
    }
   ],
   "source": [
    "url = f\"https://search-serv-277369611639.us-central1.run.app/fetch?query={get_market_data}\"\n",
    "url\n"
   ]
  },
  {
   "cell_type": "code",
   "execution_count": 8,
   "metadata": {},
   "outputs": [
    {
     "name": "stdout",
     "output_type": "stream",
     "text": [
      "HTTP 500: 500 Internal Server Error: The server encountered an internal error and was unable to complete your request. Either the server is overloaded or there is an error in the application.\n"
     ]
    }
   ],
   "source": [
    "try:\n",
    "    response = requests.get(url_token)\n",
    "    if response.status_code == 200:\n",
    "        output = response.json()\n",
    "    else:\n",
    "        print(f\"HTTP {response.status_code}: {response.text}\")  \n",
    "except Exception as e:\n",
    "    print(f\"Error executing tool: {str(e)}\")\n"
   ]
  },
  {
   "cell_type": "markdown",
   "metadata": {},
   "source": [
    "# LLM"
   ]
  },
  {
   "cell_type": "code",
   "execution_count": 21,
   "metadata": {},
   "outputs": [],
   "source": [
    "client = OpenAI(\n",
    "        base_url=\"https://integrate.api.nvidia.com/v1\",\n",
    "        api_key=os.getenv(\n",
    "            \"OPENAI_API_KEY\",\n",
    "            \"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\",\n",
    "        ),\n",
    "    )"
   ]
  },
  {
   "cell_type": "code",
   "execution_count": 30,
   "metadata": {},
   "outputs": [],
   "source": [
    "prompt = [\n",
    "        {\"role\": \"system\", \"content\": \"you are an AI assistant\"},\n",
    "        {\"role\": \"user\", \"content\": \"provide me with a detailed analysis of the market since the appearance of betcoin\"},\n",
    "]"
   ]
  },
  {
   "cell_type": "code",
   "execution_count": 33,
   "metadata": {},
   "outputs": [
    {
     "name": "stdout",
     "output_type": "stream",
     "text": [
      "ChatCompletionMessage(content=\"Since the appearance of Bitcoin in 2009, the market has undergone significant changes and developments. Here's a detailed analysis of the market's evolution:\\n\\n**Early Days (2009-2010)**\\n\\n* Bitcoin was first introduced as a whitepaper by Satoshi Nakamoto in October 2009.\\n* The first block, known as the Genesis Block, was mined in January 2009.\\n* Initially, Bitcoin was met with skepticism and was largely ignored by the mainstream.\\n* In 2010, the first Bitcoin exchanges emerged, allowing people to buy and sell Bitcoins.\\n\\n**Rise of Bitcoin (2011-2013)**\\n\\n* In 2011, Bitcoin's price began to rise, reaching a peak of $31.91 in June 2011.\\n* The Silk Road, a notorious online black market, began to accept Bitcoin as payment, increasing its visibility and adoption.\\n* In 2012, the first Bitcoin conference was held, and the cryptocurrency began to gain traction.\\n* By 2013, Bitcoin's price had surged to $266, but it subsequently crashed to $100.\\n\\n**Consolidation and Growth (2014-2016)**\\n\\n* Following the 2013 crash, Bitcoin's price consolidated, and the market began to mature.\\n* This period saw the emergence of new exchanges, wallets, and payment processors.\\n* In 2015, the price of Bitcoin began to rise again, reaching $1,000 by the end of the year.\\n* The Ethereum network was launched in 2015, introducing smart contract functionality and further expanding the use cases for blockchain technology.\\n\\n**Altcoin Season (2017)**\\n\\n* 2017 saw the rise of altcoins, with many new cryptocurrencies emerging and experiencing rapid price appreciation.\\n* The total market capitalization of cryptocurrencies grew from $10 billion to over $500 billion.\\n* Bitcoin's dominance, however, remained strong, with its market share staying relatively stable.\\n\\n**Cryptocurrency Boom (2017-2018)**\\n\\n* The price of Bitcoin reached an all-time high of $19,666 in December 2017.\\n* The total market capitalization of cryptocurrencies peaked at over $800 billion.\\n* This period saw increased mainstream attention, with many institutional investors and businesses exploring the use of blockchain technology.\\n\\n**Bear Market (2018-2019)**\\n\\n* The cryptocurrency market experienced a significant correction in 2018, with the price of Bitcoin falling to around $3,200.\\n* The total market capitalization of cryptocurrencies declined to around $100 billion.\\n* Despite the price decline, this period saw continued innovation and adoption, with the emergence of decentralized finance (DeFi) and stablecoins.\\n\\n**Institutional Investment and Regulation (2020-Present)**\\n\\n* In 2020, the cryptocurrency market began to recover, with the price of Bitcoin rising to over $10,000.\\n* Institutional investors, such as pension funds and family offices, began to invest in cryptocurrencies.\\n* Regulatory clarity improved, with the introduction of clear guidelines and frameworks for the use of blockchain technology.\\n* The COVID-19 pandemic accelerated the adoption of digital assets, as investors sought safe-haven assets and governments explored the use of blockchain for stimulus packages.\\n\\n**Current Market Trends**\\n\\n* The cryptocurrency market continues to evolve, with a growing focus on DeFi, stablecoins, and scalability solutions.\\n* The rise of decentralized exchanges (DEXs) and non-fungible tokens (NFTs) is changing the way assets are traded and stored.\\n* Central banks and governments are exploring the use of central bank digital currencies (CBDCs) and blockchain for payment systems.\\n* The increasing adoption of digital assets by mainstream institutions and individuals is driving growth and innovation in the market.\\n\\n**Key Statistics**\\n\\n* Total market capitalization of cryptocurrencies: over $2 trillion\\n* Number of cryptocurrencies: over 5,000\\n* Daily trading volume: over $50 billion\\n* Number of blockchain wallets: over 50 million\\n* Institutional investment in cryptocurrencies: over $10 billion\\n\\n**Conclusion**\\n\\nThe market has undergone significant changes since the appearance of Bitcoin in 2009. From its early days as a niche asset to its current status as a major player in the global financial system, the cryptocurrency market has shown remarkable resilience and adaptability. As the market continues to evolve, it is likely that we will see increased adoption, innovation, and growth in the years to come.\", refusal=None, role='assistant', audio=None, function_call=None, tool_calls=None)\n"
     ]
    }
   ],
   "source": [
    "            # Ask the LLM for the next step\n",
    "chat_completion = client.chat.completions.create(\n",
    "    model=\"meta/llama-3.1-70b-instruct\",\n",
    "    messages=prompt,\n",
    "    # tool_choice=\"auto\",\n",
    "    temperature=0.85,\n",
    "    # top__p=0.8,\n",
    "    max_tokens=4096,\n",
    "    stream=False,\n",
    ")\n",
    "\n",
    "response = chat_completion.choices[0].message\n",
    "print(response)"
   ]
  },
  {
   "cell_type": "markdown",
   "metadata": {},
   "source": [
    "# 2"
   ]
  },
  {
   "cell_type": "code",
   "execution_count": 13,
   "metadata": {},
   "outputs": [],
   "source": [
    "def fetch_results(tool_name, parameters={}):\n",
    "    \"\"\"\n",
    "    Executes the appropriate tool and retrieves results.\n",
    "    \"\"\"\n",
    "    endpoint_mapping = {\n",
    "        \"get_official_tweets\": (\n",
    "            \"http://backend-277369611639.us-central1.run.app/\" # No need to to do it for Get_official_tweets too it's straight forward\n",
    "            \"get_official_tweets?username={username}\"\n",
    "        ),\n",
    "        \"search_community_tweets\": (\n",
    "            \"https://backend-277369611639.us-central1.run.app/\"\n",
    "            \"search_tweets?query={query}\"\n",
    "        ),\n",
    "        \"get_market_data\": (\n",
    "            # \"https://us-central1-third-opus-411016.cloudfunctions.net/\"\n",
    "            # \"SearchEngineApiV4/get_market_details_coin_ticker?query={token}\"\n",
    "            \"https://search-serv-277369611639.us-central1.run.app/fetch?query={token}\"\n",
    "        ),\n",
    "        \"get_news\": (\n",
    "            \"https://us-central1-third-opus-411016.cloudfunctions.net/\" # No need to provide the user with the possivility of choosing here at least\n",
    "            \"SearchEngineApiV4/news?search={search}&page_size=30\"       #not the same way we did with get_market_data\n",
    "        ),\n",
    "        \"get_trending_tokens\": (\n",
    "            \"https://us-central1-third-opus-411016.cloudfunctions.net/SearchEngineApiV4/\"\n",
    "            \"x_trending\"\n",
    "        ),\n",
    "        \"get_sentiment_analysis\": (\n",
    "            \"https://us-central1-third-opus-411016.cloudfunctions.net/\"\n",
    "            \"SearchEngineApiV4/get_final_sent?query={token}\"\n",
    "        )\n",
    "    }\n",
    "\n",
    "    url_template = endpoint_mapping.get(tool_name)\n",
    "    if not url_template:\n",
    "        return {\"error\": f\"Tool '{tool_name}' is not supported.\"}\n",
    "\n",
    "    try:\n",
    "        url = url_template.format(**parameters)\n",
    "        response = requests.get(url)\n",
    "        if response.status_code == 200:\n",
    "            return response.json()\n",
    "        else:\n",
    "            return {\"error\": f\"HTTP {response.status_code}: {response.text}\"}\n",
    "    except Exception as e:\n",
    "        return {\"error\": f\"Error executing tool: {str(e)}\"}"
   ]
  },
  {
   "cell_type": "code",
   "execution_count": 14,
   "metadata": {},
   "outputs": [],
   "source": [
    "output = fetch_results(\"get_market_data\", {\"token\": \"trump\"})"
   ]
  },
  {
   "cell_type": "code",
   "execution_count": 15,
   "metadata": {},
   "outputs": [
    {
     "name": "stdout",
     "output_type": "stream",
     "text": [
      "10\n",
      "<class 'list'>\n"
     ]
    }
   ],
   "source": [
    "print(len(output))\n",
    "print(type(output))"
   ]
  },
  {
   "cell_type": "code",
   "execution_count": 8,
   "metadata": {},
   "outputs": [],
   "source": [
    "# pprint.pprint(output)\n",
    "# tweets = list(output)\n"
   ]
  },
  {
   "cell_type": "code",
   "execution_count": 16,
   "metadata": {},
   "outputs": [
    {
     "data": {
      "text/plain": [
       "['OFFICIAL TRUMP',\n",
       " 'Crypto Jesus Trump',\n",
       " 'Turbo Trump',\n",
       " 'OFFICIAL TRUMP',\n",
       " 'TRUMP AI',\n",
       " 'BOME TRUMP',\n",
       " 'Elon Trump Fart',\n",
       " 'Grand Trump Auto',\n",
       " 'Trump',\n",
       " 'Barron William Trump']"
      ]
     },
     "execution_count": 16,
     "metadata": {},
     "output_type": "execute_result"
    }
   ],
   "source": [
    "[item[\"name\"]  for item in output]"
   ]
  },
  {
   "cell_type": "code",
   "execution_count": 17,
   "metadata": {},
   "outputs": [
    {
     "data": {
      "text/plain": [
       "['TRUMP',\n",
       " 'TRUMP',\n",
       " 'TURBO',\n",
       " 'TRUMP',\n",
       " 'TRUMP',\n",
       " 'TRUMP',\n",
       " 'ETF500',\n",
       " 'GTRUMP',\n",
       " 'Trump',\n",
       " 'BWT']"
      ]
     },
     "execution_count": 17,
     "metadata": {},
     "output_type": "execute_result"
    }
   ],
   "source": [
    "[item[\"symbol\"]  for item in output]"
   ]
  },
  {
   "cell_type": "code",
   "execution_count": null,
   "metadata": {},
   "outputs": [],
   "source": []
  }
 ],
 "metadata": {
  "kernelspec": {
   "display_name": ".venv",
   "language": "python",
   "name": "python3"
  },
  "language_info": {
   "codemirror_mode": {
    "name": "ipython",
    "version": 3
   },
   "file_extension": ".py",
   "mimetype": "text/x-python",
   "name": "python",
   "nbconvert_exporter": "python",
   "pygments_lexer": "ipython3",
   "version": "3.11.11"
  }
 },
 "nbformat": 4,
 "nbformat_minor": 2
}
